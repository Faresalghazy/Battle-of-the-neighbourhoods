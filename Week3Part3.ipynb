{
 "cells": [
  {
   "cell_type": "markdown",
   "metadata": {},
   "source": [
    "<h1>Purpose </h1>\n",
    "This notebook serves as a submission for the IBM professional data science certificate capstone project \"Battle of the neighborhoods\"\n"
   ]
  },
  {
   "cell_type": "markdown",
   "metadata": {},
   "source": [
    "# Begin with imports and data acquisition"
   ]
  },
  {
   "cell_type": "code",
   "execution_count": null,
   "metadata": {},
   "outputs": [],
   "source": [
    "import pandas as pd\n",
    "import numpy as np\n",
    "data_source = \"https://en.wikipedia.org/wiki/List_of_postal_codes_of_Canada:_M\"\n",
    "\n",
    "data= pd.read_html('https://en.wikipedia.org/wiki/List_of_postal_codes_of_Canada:_M')[0]\n",
    "\n",
    "data.head(15)\n"
   ]
  },
  {
   "cell_type": "markdown",
   "metadata": {},
   "source": [
    "## Clean data to much criteria:\n",
    "* Only process cells that have an assigned borough, ignore others.\n",
    "* More than one neighborhood can exist in one postal code area. For example, in the table on the Wikipedia page, you will notice that M5A is listed twice and has two neighborhoods: Harbourfront and Regent Park. These two rows will be combined into one row with the neighborhoods separated with a comma.\n",
    "* If the neighborhood is unassigned, assign it to be the same as the Borough\n"
   ]
  },
  {
   "cell_type": "markdown",
   "metadata": {},
   "source": [
    "#### Begin by removing missing borough values"
   ]
  },
  {
   "cell_type": "code",
   "execution_count": null,
   "metadata": {},
   "outputs": [],
   "source": [
    "#Remove values where borough is unassigned\n",
    "#Begin by replacing not assigned with NaT\n",
    "data['Borough'].replace(\"Not assigned\",pd.NaT,regex=True,inplace=True)\n",
    "#Now drop NaT values in Borough\n",
    "data.dropna(subset = ['Borough'],inplace=True)\n",
    "data.reset_index(inplace=True)\n",
    "data"
   ]
  },
  {
   "cell_type": "markdown",
   "metadata": {},
   "source": [
    "#### Handle missing neighborhoods"
   ]
  },
  {
   "cell_type": "code",
   "execution_count": null,
   "metadata": {},
   "outputs": [],
   "source": [
    "data['Neighborhood'].replace(np.NaN,data.Neighborhood,regex=True,inplace=True)\n",
    "\n",
    "data = data[['Postal code' , 'Borough' ,'Neighborhood']]\n",
    "data"
   ]
  },
  {
   "cell_type": "markdown",
   "metadata": {},
   "source": [
    "#### Group by postal code and seperate by coloumns"
   ]
  },
  {
   "cell_type": "code",
   "execution_count": null,
   "metadata": {},
   "outputs": [],
   "source": [
    "#Remove space from Postal code\n",
    "data.columns\n",
    "column_names=['Postal_code', 'Borough', 'Neighborhood']\n",
    "data.columns=column_names\n",
    "data.columns\n"
   ]
  },
  {
   "cell_type": "code",
   "execution_count": null,
   "metadata": {},
   "outputs": [],
   "source": [
    "counts = data.Postal_code.value_counts()\n",
    "counts[counts>1]\n",
    "data = data.groupby('Borough').apply(lambda x: x.apply(lambda y:  ', '.join(y) \\\n",
    "                                                   if y.name =='Neighbourhood' \\\n",
    "                                                   else y.tolist()[0]))\n",
    "data.reset_index(inplace=True, drop=True)\n",
    "data"
   ]
  },
  {
   "cell_type": "code",
   "execution_count": null,
   "metadata": {},
   "outputs": [],
   "source": [
    "#Replace / with ,\n",
    "data['Neighborhood'] = data['Neighborhood'].str.replace('/',',')\n",
    "data"
   ]
  },
  {
   "cell_type": "markdown",
   "metadata": {},
   "source": [
    "## Next step is to add a lattitude and longitude value for each Postal code"
   ]
  },
  {
   "cell_type": "markdown",
   "metadata": {},
   "source": [
    "### Data has been downloaded to csv file for convenience and reliability"
   ]
  },
  {
   "cell_type": "code",
   "execution_count": null,
   "metadata": {},
   "outputs": [],
   "source": [
    "#First load the data into a dictionary of the following format:\n",
    "# {postal_code:(lat,long)}\n",
    "import csv\n",
    "GeoDict={}\n",
    "reader = csv.DictReader(open('Geospatial_Coordinates.csv'))\n",
    "for row in reader:\n",
    "\n",
    "    code=row[\"Postal Code\"]\n",
    "    latlong=(row[\"Latitude\"],row[\"Longitude\"])\n",
    "    GeoDict.update({code:latlong})\n",
    "    \n"
   ]
  },
  {
   "cell_type": "markdown",
   "metadata": {},
   "source": [
    "### Then the coordinates are prepared to be added to the DF\n",
    "\n",
    "#### This is done by iterating over the postal codes in the DF and looking up their values in a dictionary"
   ]
  },
  {
   "cell_type": "code",
   "execution_count": null,
   "metadata": {},
   "outputs": [],
   "source": [
    "#First expand the data frame\n",
    "data[\"Latitude\"] = \"\"\n",
    "data[\"Longitude\"]= \"\"\n"
   ]
  },
  {
   "cell_type": "code",
   "execution_count": null,
   "metadata": {},
   "outputs": [],
   "source": [
    "for index,row in data.iterrows():\n",
    "    row[\"Latitude\"],row[\"Longitude\"]=GeoDict[row[\"Postal_code\"]]"
   ]
  },
  {
   "cell_type": "code",
   "execution_count": null,
   "metadata": {},
   "outputs": [],
   "source": [
    "data.head()"
   ]
  },
  {
   "cell_type": "markdown",
   "metadata": {},
   "source": [
    "## Draw the map based on the data frame"
   ]
  },
  {
   "cell_type": "code",
   "execution_count": null,
   "metadata": {},
   "outputs": [],
   "source": [
    "#Begin with imports\n",
    "from geopy.geocoders import Nominatim\n",
    "import folium\n",
    "#Then begin setup\n",
    "address = 'Toronto, Canada'\n",
    "geolocator = Nominatim(user_agent=\"ny_explorer\")\n",
    "location = geolocator.geocode(address)\n",
    "latitude = location.latitude\n",
    "longitude = location.longitude\n",
    "print('The geograpical coordinate of Toronto are {}, {}.'.format(latitude, longitude))"
   ]
  },
  {
   "cell_type": "code",
   "execution_count": null,
   "metadata": {},
   "outputs": [],
   "source": [
    "# create map of Torronto using latitude and longitude values\n",
    "map_toronto = folium.Map(location=[latitude, longitude], zoom_start=11)\n",
    "\n",
    "# add markers to map\n",
    "for lat, lng, label in zip(data['Latitude'], fata['Longitude'], data['Neighborhood']):\n",
    "    label = folium.Popup(label, parse_html=True)\n",
    "    folium.CircleMarker(\n",
    "        [lat, lng],\n",
    "        radius=5,\n",
    "        popup=label,\n",
    "        color='blue',\n",
    "        fill=True,\n",
    "        fill_color='#3186cc',\n",
    "        fill_opacity=0.7,\n",
    "        parse_html=False).add_to(map_manhattan)  \n",
    "    \n",
    "map_toronto"
   ]
  },
  {
   "cell_type": "code",
   "execution_count": null,
   "metadata": {},
   "outputs": [],
   "source": []
  }
 ],
 "metadata": {
  "kernelspec": {
   "display_name": "Python 3",
   "language": "python",
   "name": "python3"
  },
  "language_info": {
   "codemirror_mode": {
    "name": "ipython",
    "version": 3
   },
   "file_extension": ".py",
   "mimetype": "text/x-python",
   "name": "python",
   "nbconvert_exporter": "python",
   "pygments_lexer": "ipython3",
   "version": "3.7.4"
  }
 },
 "nbformat": 4,
 "nbformat_minor": 4
}
